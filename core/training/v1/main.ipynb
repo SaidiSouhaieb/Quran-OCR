{
 "cells": [
  {
   "cell_type": "code",
   "execution_count": null,
   "metadata": {},
   "outputs": [],
   "source": [
    "import os\n",
    "import sys\n",
    "import numpy as np\n",
    "import tensorflow as tf\n",
    "\n",
    "from tensorflow.keras import layers, models\n",
    "from tensorflow.keras.layers import Bidirectional\n",
    "from tensorflow.keras.optimizers import RMSprop\n",
    "from tensorflow.keras.backend import ctc_batch_cost\n",
    "from sklearn import preprocessing \n",
    "\n",
    "sys.path.append('../')\n",
    "from utils.image_to_tensor import convert_image_to_tensor\n",
    "from utils.pymongo_get_database import get_database\n"
   ]
  },
  {
   "cell_type": "code",
   "execution_count": null,
   "metadata": {},
   "outputs": [],
   "source": [
    "dbname = get_database()\n",
    "quran_words_collection = dbname[\"quran_words\"]\n",
    "quran_words = quran_words_collection.find()"
   ]
  },
  {
   "cell_type": "markdown",
   "metadata": {},
   "source": [
    "## Data Loader\n"
   ]
  },
  {
   "cell_type": "code",
   "execution_count": null,
   "metadata": {},
   "outputs": [],
   "source": [
    "class ImageDataLoader:\n",
    "    def __init__(self, data_path, fonts, db_name, collection_name):\n",
    "        self.data_path = data_path\n",
    "        self.fonts = fonts\n",
    "        self.db_name = db_name\n",
    "        self.collection_name = collection_name\n",
    "        self.db = self._get_database()\n",
    "        self.images_tensors = []\n",
    "        self.label_encoder = preprocessing.LabelEncoder()  # Initialize label encoder\n",
    "\n",
    "    def _get_database(self):\n",
    "        \"\"\"Retrieve the MongoDB database.\"\"\"\n",
    "        return get_database()\n",
    "\n",
    "    def _load_images(self):\n",
    "        \"\"\"Load images from the specified fonts and convert to tensors.\"\"\"\n",
    "        image_number = 0\n",
    "        for font in self.fonts:\n",
    "            fonts_dir_paths = os.path.join(self.data_path, font)\n",
    "            images = os.listdir(fonts_dir_paths)\n",
    "            for image in images:\n",
    "                image_path = os.path.join(fonts_dir_paths, image)\n",
    "                self.images_tensors.append(convert_image_to_tensor(image_path))\n",
    "                image_number += 1\n",
    "        print(image_number)\n",
    "\n",
    "    def get_images_tensors(self):\n",
    "        \"\"\"Load images and convert them to tensors, then return them as a NumPy array.\"\"\"\n",
    "        self._load_images()\n",
    "        return np.array(self.images_tensors)\n",
    "\n",
    "    def fetch_quran_words(self):\n",
    "        \"\"\"Fetch Quran words from the database and return them.\"\"\"\n",
    "        collection = self.db[self.collection_name]\n",
    "        return list(collection.find())\n",
    "\n",
    "    def encode_quran_words(self):\n",
    "        \"\"\"Fetch Quran words from the database and encode them using one-hot encoding.\"\"\"\n",
    "        quran_words = self.fetch_quran_words()\n",
    "        words = [word_data[\"word\"] for word_data in quran_words]  # Extract words from the data\n",
    "\n",
    "        # Create a mapping from word to index\n",
    "        unique_words = list(set(words))\n",
    "        word_to_index = {word: idx for idx, word in enumerate(unique_words)}\n",
    "        num_classes = len(unique_words)  # This will be the number of unique words\n",
    "\n",
    "        # Convert words to indices\n",
    "        transformed_words = np.array([word_to_index[word] for word in words])\n",
    "\n",
    "        # Convert indices to one-hot encoding\n",
    "        one_hot_labels = tf.keras.utils.to_categorical(transformed_words, num_classes=num_classes)\n",
    "\n",
    "        # Define the required shape (e.g., (146008, num_classes))\n",
    "        required_shape = (146008, num_classes)\n",
    "\n",
    "        # Repeat and truncate one-hot encoded labels to match the required shape\n",
    "        num_repeats = int(np.ceil(np.prod(required_shape) / one_hot_labels.size))\n",
    "        repeated_labels = np.tile(one_hot_labels, (num_repeats, 1))[:required_shape[0]]\n",
    "\n",
    "        return repeated_labels"
   ]
  },
  {
   "cell_type": "code",
   "execution_count": null,
   "metadata": {},
   "outputs": [],
   "source": [
    "data_path = '../../../static/processed/v2/images/'\n",
    "fonts = [\"eljaza\", \"hijazi\", \"naskh\", \"ruqah\", \"thuluth\", \"muhammadi\", \"almaghribi\", \"uthmanic\"]\n",
    "dbname = \"quran_database\"\n",
    "collection_name = \"quran_words\""
   ]
  },
  {
   "cell_type": "code",
   "execution_count": null,
   "metadata": {},
   "outputs": [],
   "source": [
    "# Initialzing the data loader\n",
    "data_loader = ImageDataLoader(data_path, fonts, dbname, collection_name)\n"
   ]
  },
  {
   "cell_type": "code",
   "execution_count": null,
   "metadata": {},
   "outputs": [],
   "source": [
    "# Transform the images to tensors\n",
    "x = data_loader.get_images_tensors()\n",
    "print(\"Encoded images:\", x[0])\n",
    "print(\"Encoded images shape:\", x.shape)\n",
    "\n",
    "# Encode Quran words and print the shape of the encoded labels\n",
    "y = data_loader.encode_quran_words()\n",
    "print(\"Encoded words:\", y)\n",
    "print(\"Encoded words shape:\", y.shape)"
   ]
  },
  {
   "cell_type": "code",
   "execution_count": null,
   "metadata": {},
   "outputs": [],
   "source": [
    "print(\"Encoded images:\", x[0].shape)\n"
   ]
  },
  {
   "cell_type": "code",
   "execution_count": null,
   "metadata": {},
   "outputs": [],
   "source": [
    "# # Neural Network\n",
    "\n",
    "# model = models.Sequential()\n",
    "\n",
    "# # CNN Layers \n",
    "\n",
    "# # Layer 1: Conv2D + MaxPooling\n",
    "\n",
    "# model.add(layers.Conv2D(32, (5, 5), activation='relu', padding='same', input_shape=(192, 64, 1))) \n",
    "# model.add(layers.MaxPooling2D((2, 2)))  # Output: (32, 8, 32)\n",
    "\n",
    "# # Layer 2: Conv2D + MaxPooling\n",
    "# model.add(layers.Conv2D(64, (5, 5), activation='relu', padding='same'))  # Output: (32, 8, 64)\n",
    "# model.add(layers.MaxPooling2D((2, 2)))  # Output: (16, 4, 64)\n",
    "\n",
    "# # Layer 3: Conv2D + MaxPooling\n",
    "# model.add(layers.Conv2D(128, (3, 3), activation='relu', padding='same'))  # Output: (16, 4, 128)\n",
    "# model.add(layers.MaxPooling2D((1, 2)))  # Output: (16, 2, 128)\n",
    "\n",
    "# # Layer 4: Conv2D + MaxPooling\n",
    "# model.add(layers.Conv2D(128, (3, 3), activation='relu', padding='same'))  # Output: (16, 2, 128)\n",
    "# model.add(layers.MaxPooling2D((1, 2)))  # Output: (16, 1, 128)\n",
    "\n",
    "# # Layer 5: Conv2D + MaxPooling\n",
    "# model.add(layers.Conv2D(256, (3, 3), activation='relu', padding='same'))  # Output: (16, 1, 256)\n",
    "# model.add(layers.MaxPooling2D((1, 1), padding='valid'))  # Output: (16, 1, 256)\n",
    "\n",
    "# # Reshape the output to fit the LSTM input requirements\n",
    "# model.add(layers.Reshape((192, 256)))\n",
    "# # BDLTSM Layers\n",
    "# model.add(Bidirectional(\n",
    "#     tf.keras.layers.LSTM(265, return_sequences=True)\n",
    "# ))\n",
    "# model.add(Bidirectional(\n",
    "#     tf.keras.layers.LSTM(265, return_sequences=True)\n",
    "# ))\n",
    "\n",
    "# model.summary()\n"
   ]
  },
  {
   "cell_type": "code",
   "execution_count": null,
   "metadata": {},
   "outputs": [],
   "source": [
    "# model.compile(optimizer=RMSprop())\n",
    "# model.fit(x, y, batch_size=32, epochs=10)"
   ]
  },
  {
   "cell_type": "code",
   "execution_count": null,
   "metadata": {},
   "outputs": [],
   "source": [
    "import tensorflow as tf\n",
    "from tensorflow.keras import layers, models\n",
    "from tensorflow.keras.layers import Bidirectional, LSTM, Dense\n",
    "\n",
    "# Define the model\n",
    "model = models.Sequential()\n",
    "\n",
    "# CNN Layers\n",
    "# Layer 1: Conv2D + MaxPooling\n",
    "model.add(layers.Conv2D(32, (5, 5), activation='relu', padding='same', input_shape=(192, 64, 1)))\n",
    "model.add(layers.MaxPooling2D((2, 2)))  # Output: (96, 32, 32)\n",
    "\n",
    "# Layer 2: Conv2D + MaxPooling\n",
    "model.add(layers.Conv2D(64, (5, 5), activation='relu', padding='same'))\n",
    "model.add(layers.MaxPooling2D((2, 2)))  # Output: (48, 16, 64)\n",
    "\n",
    "# Layer 3: Conv2D + MaxPooling\n",
    "model.add(layers.Conv2D(128, (3, 3), activation='relu', padding='same'))\n",
    "model.add(layers.MaxPooling2D((1, 2)))  # Output: (48, 8, 128)\n",
    "\n",
    "# Layer 4: Conv2D + MaxPooling\n",
    "model.add(layers.Conv2D(128, (3, 3), activation='relu', padding='same'))\n",
    "model.add(layers.MaxPooling2D((1, 2)))  # Output: (48, 4, 128)\n",
    "\n",
    "# Layer 5: Conv2D + MaxPooling\n",
    "model.add(layers.Conv2D(256, (3, 3), activation='relu', padding='same'))\n",
    "model.add(layers.MaxPooling2D((1, 1), padding='valid'))  # Output: (48, 4, 256)\n",
    "\n",
    "# Flatten the output\n",
    "model.add(layers.Flatten())\n",
    "\n",
    "# Dense Layer for Classification\n",
    "model.add(layers.Dense(18251, activation='softmax'))  # Replace num_classes with the number of classes\n",
    "\n",
    "# Model summary\n",
    "model.summary()\n",
    "\n",
    "# Compile the model\n",
    "model.compile(optimizer='adam', loss='categorical_crossentropy', metrics=['accuracy'])\n"
   ]
  },
  {
   "cell_type": "code",
   "execution_count": 11,
   "metadata": {},
   "outputs": [],
   "source": [
    "model.fit(x, y, batch_size=32, epochs=10)  "
   ]
  },
  {
   "cell_type": "code",
   "execution_count": null,
   "metadata": {},
   "outputs": [],
   "source": []
  }
 ],
 "metadata": {
  "kernelspec": {
   "display_name": ".venv",
   "language": "python",
   "name": "python3"
  },
  "language_info": {
   "codemirror_mode": {
    "name": "ipython",
    "version": 3
   },
   "file_extension": ".py",
   "mimetype": "text/x-python",
   "name": "python",
   "nbconvert_exporter": "python",
   "pygments_lexer": "ipython3",
   "version": "3.12.4"
  }
 },
 "nbformat": 4,
 "nbformat_minor": 2
}
