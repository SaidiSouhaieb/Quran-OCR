{
 "cells": [
  {
   "cell_type": "code",
   "execution_count": 1,
   "metadata": {},
   "outputs": [],
   "source": [
    "import re\n",
    "import uuid\n",
    "import json"
   ]
  },
  {
   "cell_type": "code",
   "execution_count": 2,
   "metadata": {},
   "outputs": [],
   "source": [
    "from utils.extract_verse_surah_numbers import extract_verse_surah_numbers\n",
    "from utils.filter_text import filter_text\n",
    "from utils.generate_uuid import generate_unique_id\n",
    "from utils.dump_json_data import dump_json_data\n",
    "from utils.pymongo_get_database import get_database\n"
   ]
  },
  {
   "cell_type": "code",
   "execution_count": 3,
   "metadata": {},
   "outputs": [],
   "source": [
    "dbname = get_database()\n",
    "quran_words_collection = dbname[\"quran_words\"]"
   ]
  },
  {
   "cell_type": "code",
   "execution_count": 4,
   "metadata": {},
   "outputs": [],
   "source": [
    "def generate_word_json():\n",
    "  quran_verses_path = '../../static/text/quran_verses.txt'\n",
    "  with open(quran_verses_path, 'r') as quran_file:\n",
    "    verses = quran_file.readlines()\n",
    "    for verse in verses:\n",
    "      surah_number, verse_number = extract_verse_surah_numbers(verse)\n",
    "      verse_words = filter_text(verse).split()\n",
    "      for word in verse_words:\n",
    "        word_id = generate_unique_id()\n",
    "        verse_data = {\n",
    "          \"word\": word,\n",
    "          \"id\": str(word_id),\n",
    "          \"surah_number\": surah_number,\n",
    "          \"verse_number\": verse_number\n",
    "        }\n",
    "        # dump_json_data(verse_data)\n",
    "        quran_words_collection.insert_one(verse_data)\n"
   ]
  },
  {
   "cell_type": "code",
   "execution_count": 5,
   "metadata": {},
   "outputs": [],
   "source": [
    "if __name__ == '__main__':\n",
    "  with open(\"temp/quran_words.json\", \"a\") as outfile:\n",
    "      outfile.write(\"[]\")\n",
    "  generate_word_json()"
   ]
  }
 ],
 "metadata": {
  "kernelspec": {
   "display_name": "Python 3",
   "language": "python",
   "name": "python3"
  },
  "language_info": {
   "codemirror_mode": {
    "name": "ipython",
    "version": 3
   },
   "file_extension": ".py",
   "mimetype": "text/x-python",
   "name": "python",
   "nbconvert_exporter": "python",
   "pygments_lexer": "ipython3",
   "version": "3.12.4"
  }
 },
 "nbformat": 4,
 "nbformat_minor": 2
}
