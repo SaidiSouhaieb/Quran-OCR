{
 "cells": [
  {
   "cell_type": "code",
   "execution_count": 1,
   "metadata": {},
   "outputs": [],
   "source": [
    "import csv\n",
    "from PIL import ImageFont\n",
    "from utils.generate_image import generate_image\n",
    "from utils.pymongo_get_database import get_database"
   ]
  },
  {
   "cell_type": "code",
   "execution_count": 2,
   "metadata": {},
   "outputs": [],
   "source": [
    "dbname = get_database()\n",
    "quran_words_collection = dbname[\"quran_words\"]"
   ]
  },
  {
   "cell_type": "code",
   "execution_count": 3,
   "metadata": {},
   "outputs": [],
   "source": [
    "quran_words = quran_words_collection.find()"
   ]
  },
  {
   "cell_type": "code",
   "execution_count": 4,
   "metadata": {},
   "outputs": [],
   "source": [
    "font_path = \"../../static/raw/fonts/thuluth.ttf\"\n",
    "csv_file_path = \"../../static/csv/words_id.csv\"\n",
    "font_size = 35  \n",
    "font = ImageFont.truetype(font_path, size=font_size)\n",
    "\n",
    "\n",
    "with open(csv_file_path, 'w', newline='') as csv_file:\n",
    "    writer = csv.writer(csv_file)\n",
    "    field = [\"word_id\"]\n",
    "    writer.writerow(field)\n",
    "\n",
    "for word in quran_words:\n",
    "  text = word['word']\n",
    "  word_id = word['id']\n",
    "  with open(csv_file_path, 'a', newline='') as csv_file:\n",
    "    writer = csv.writer(csv_file)\n",
    "    writer.writerow([word_id])\n",
    "\n",
    "  generate_image(text, word_id, font, text_y_offset=-4)"
   ]
  },
  {
   "cell_type": "code",
   "execution_count": null,
   "metadata": {},
   "outputs": [],
   "source": []
  }
 ],
 "metadata": {
  "kernelspec": {
   "display_name": "Python 3",
   "language": "python",
   "name": "python3"
  },
  "language_info": {
   "codemirror_mode": {
    "name": "ipython",
    "version": 3
   },
   "file_extension": ".py",
   "mimetype": "text/x-python",
   "name": "python",
   "nbconvert_exporter": "python",
   "pygments_lexer": "ipython3",
   "version": "3.12.4"
  }
 },
 "nbformat": 4,
 "nbformat_minor": 2
}
